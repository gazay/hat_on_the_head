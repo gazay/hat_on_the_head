{
 "cells": [
  {
   "cell_type": "code",
   "execution_count": null,
   "id": "useful-buddy",
   "metadata": {},
   "outputs": [],
   "source": [
    "# Steps partially taken from https://debuggercafe.com/advanced-facial-keypoint-detection-with-pytorch/\n",
    "\n",
    "import pandas as pd\n",
    "import matplotlib.pyplot as plt\n",
    "import numpy as np\n",
    "import cv2\n",
    "import torch\n",
    "import albumentations as A\n",
    "from albumentations.pytorch.transforms import ToTensorV2\n",
    "from sklearn.model_selection import train_test_split\n",
    "import timm\n",
    "\n",
    "\n",
    "%matplotlib inline\n",
    "%config Completer.use_jedi = False\n",
    "\n",
    "ROOT = \"/home/lenin/code/hat_on_the_head/\"\n",
    "DATA = ROOT + \"data/\"\n",
    "KP_DATA = DATA + \"kaggle_keypoints/\"\n",
    "RANDOM_SEED = 42"
   ]
  },
  {
   "cell_type": "code",
   "execution_count": null,
   "id": "3dc86cc7",
   "metadata": {},
   "outputs": [],
   "source": [
    "!ls {KP_DATA}"
   ]
  },
  {
   "cell_type": "code",
   "execution_count": null,
   "id": "overall-transmission",
   "metadata": {},
   "outputs": [],
   "source": [
    "def load(path):\n",
    "    img = cv2.imread(path)\n",
    "    return cv2.cvtColor(img, cv2.COLOR_BGR2RGB)\n",
    "\n",
    "\n",
    "def valid_keypoints_plot(image, outputs, orig_keypoints, epoch):\n",
    "    \"\"\"\n",
    "    This function plots the regressed (predicted) keypoints and the actual \n",
    "    keypoints after each validation epoch for one image in the batch.\n",
    "    \"\"\"\n",
    "    # detach the image, keypoints, and output tensors from GPU to CPU\n",
    "    image = image.detach().cpu()\n",
    "    outputs = outputs.detach().cpu().numpy()\n",
    "    orig_keypoints = orig_keypoints.detach().cpu().numpy()\n",
    "    # just get a single datapoint from each batch\n",
    "    img = image[0]\n",
    "    output_keypoint = outputs[0]\n",
    "    orig_keypoint = orig_keypoints[0]\n",
    "    img = np.array(img, dtype='float32')\n",
    "    img = np.transpose(img, (1, 2, 0))\n",
    "    plt.imshow(img)\n",
    "    \n",
    "    output_keypoint = output_keypoint.reshape(-1, 2)\n",
    "    orig_keypoint = orig_keypoint.reshape(-1, 2)\n",
    "    for p in range(output_keypoint.shape[0]):\n",
    "        plt.plot(output_keypoint[p, 0], output_keypoint[p, 1], 'r.')\n",
    "        plt.plot(orig_keypoint[p, 0], orig_keypoint[p, 1], 'b.')\n",
    "        \n",
    "    plt.show()\n",
    "    \n",
    "\n",
    "\n",
    "def load_item(root, row):\n",
    "    img = load(root + row.img)\n",
    "    keypoints = [[float(e) for e in t.split(\",\")] for t in row.our_kpts.split(\";\")]\n",
    "    return img, keypoints\n",
    "\n",
    "def show(row):\n",
    "    img, kpts = load_item(KP_DATA, row)\n",
    "    show_w_kpts(img, kpts)"
   ]
  },
  {
   "cell_type": "code",
   "execution_count": null,
   "id": "signed-cleaners",
   "metadata": {},
   "outputs": [],
   "source": [
    "df = pd.read_csv(KP_DATA + \"training_frames_keypoints.csv\")\n",
    "\n",
    "if True:\n",
    "    def join_kpts(row):\n",
    "        kpts = []\n",
    "        kpts.append(f'{row[\"78\"]},{row[\"79\"]}')\n",
    "        kpts.append(f'{row[\"84\"]},{row[\"85\"]}')\n",
    "        return \";\".join(kpts)\n",
    "\n",
    "    df[\"img\"] = df[\"Unnamed: 0\"]\n",
    "    df[\"our_kpts\"] = df.apply(join_kpts,axis=1)\n",
    "    df = df.drop(columns=[str(i) for i in range(136)] + [\"Unnamed: 0\"])\n",
    "\n",
    "    df.to_csv(DATA + \"our_train_kaggle_keypoints.csv\", index=False)\n",
    "\n",
    "print(f\"total images {len(df)}\")    \n",
    "df.head()"
   ]
  },
  {
   "cell_type": "code",
   "execution_count": null,
   "id": "adverse-madison",
   "metadata": {},
   "outputs": [],
   "source": [
    "def show_w_kpts(img, kpts):\n",
    "    plt.figure(figsize=(10, 10))\n",
    "    plt.imshow(img)\n",
    "    keypoints = np.array(kpts)\n",
    "    for j in range(len(keypoints)):\n",
    "        plt.plot(keypoints[j, 0], keypoints[j, 1], 'b.')\n",
    "    plt.show()\n",
    "\n",
    "tfms = A.Compose([\n",
    "    A.RandomRotate90(),\n",
    "    A.LongestMaxSize(448),\n",
    "    A.ShiftScaleRotate(border_mode=0, value=0),\n",
    "    A.RandomBrightnessContrast(p=0.2),\n",
    "], keypoint_params=A.KeypointParams(format='xy'))\n",
    "tfms_torch = A.Compose([\n",
    "    A.RandomRotate90(),\n",
    "    A.LongestMaxSize(448),\n",
    "    A.ShiftScaleRotate(border_mode=0, value=0),\n",
    "    A.RandomBrightnessContrast(p=0.2),\n",
    "    A.Resize(224, 224),\n",
    "    A.Normalize(),\n",
    "    ToTensorV2(),\n",
    "], keypoint_params=A.KeypointParams(format='xy'))\n",
    "\n",
    "\n",
    "sample = df.sample(1).iloc[0]\n",
    "orig_img, orig_kpts = load_item(KP_DATA + \"training/\", sample)\n",
    "\n",
    "res = tfms(image=orig_img, keypoints=orig_kpts)\n",
    "img_tfmd = res[\"image\"]\n",
    "kpts_tfmd = res[\"keypoints\"]\n",
    "#show_w_kpts(img_tfmd, kpts_tfmd)\n",
    "\n",
    "#show_w_kpts(orig_img, orig_kpts)"
   ]
  },
  {
   "cell_type": "markdown",
   "id": "afraid-heating",
   "metadata": {},
   "source": [
    "# Dataset"
   ]
  },
  {
   "cell_type": "code",
   "execution_count": null,
   "id": "superb-equity",
   "metadata": {},
   "outputs": [],
   "source": [
    "class KeypointsDataset(torch.utils.data.Dataset):\n",
    "    \n",
    "    def __init__(self, root, df, aug=A.Compose([])):\n",
    "        self.root = root\n",
    "        self.df = df\n",
    "        self.aug = aug\n",
    "\n",
    "    def __len__(self):\n",
    "        return len(self.df)\n",
    "    \n",
    "    def __getitem__(self, i):\n",
    "        row = self.df.iloc[i]\n",
    "        orig_img, orig_kpts = load_item(self.root, row)\n",
    "        res = self.aug(image=orig_img, keypoints=orig_kpts)\n",
    "        img_tfmd = res[\"image\"]\n",
    "        kpts_tfmd = res[\"keypoints\"]\n",
    "        \n",
    "        return {\n",
    "            'image': img_tfmd,\n",
    "            'keypoints': torch.FloatTensor([i for x in kpts_tfmd for i in x])\n",
    "        }"
   ]
  },
  {
   "cell_type": "code",
   "execution_count": null,
   "id": "4ef5d775",
   "metadata": {},
   "outputs": [],
   "source": [
    "train_df, val_df = train_test_split(df, test_size=0.15, shuffle=True, random_state=RANDOM_SEED)"
   ]
  },
  {
   "cell_type": "code",
   "execution_count": null,
   "id": "cfc8a7d1",
   "metadata": {},
   "outputs": [],
   "source": [
    "batch_size = 64\n",
    "num_workers = 0\n",
    "\n",
    "train_ds = KeypointsDataset(root=KP_DATA + \"training/\", df=train_df, aug=tfms_torch)\n",
    "val_ds = KeypointsDataset(root=KP_DATA + \"training/\", df=val_df, aug=tfms_torch)\n",
    "\n",
    "train_dl = torch.utils.data.DataLoader(\n",
    "    dataset=train_ds,\n",
    "    batch_size=batch_size,\n",
    "    shuffle=True,\n",
    "    num_workers=num_workers,\n",
    ")\n",
    "\n",
    "val_dl = torch.utils.data.DataLoader(\n",
    "    dataset=val_ds,\n",
    "    batch_size=batch_size*2,\n",
    "    shuffle=False,\n",
    "    num_workers=num_workers,\n",
    ")"
   ]
  },
  {
   "cell_type": "markdown",
   "id": "19555e1d",
   "metadata": {},
   "source": [
    "# Model"
   ]
  },
  {
   "cell_type": "code",
   "execution_count": null,
   "id": "1d7a6ae6",
   "metadata": {},
   "outputs": [],
   "source": [
    "model = timm.create_model('efficientnet_b0', pretrained=True)\n",
    "model.classifier = torch.nn.Linear(model.classifier.in_features, out_features=4, bias=True)"
   ]
  },
  {
   "cell_type": "markdown",
   "id": "14542cab",
   "metadata": {},
   "source": [
    "# Pytorch Lightning"
   ]
  },
  {
   "cell_type": "code",
   "execution_count": null,
   "id": "8d717ba8",
   "metadata": {},
   "outputs": [],
   "source": [
    "import pytorch_lightning as pl"
   ]
  },
  {
   "cell_type": "code",
   "execution_count": null,
   "id": "a63686b9",
   "metadata": {},
   "outputs": [],
   "source": [
    "pl.seed_everything(RANDOM_SEED)"
   ]
  },
  {
   "cell_type": "code",
   "execution_count": null,
   "id": "59774fba",
   "metadata": {},
   "outputs": [],
   "source": [
    "class HatModule(pl.LightningModule):\n",
    "    def __init__(self, model, optimizer_name, optimizer_hparams):\n",
    "        super().__init__()\n",
    "        # Exports the hyperparameters to a YAML file, and create \"self.hparams\" namespace\n",
    "        self.save_hyperparameters()\n",
    "        # Create model\n",
    "        self.model = model\n",
    "        # Create loss module\n",
    "        self.loss_module = torch.nn.SmoothL1Loss()\n",
    "        # Example input for visualizing the graph in Tensorboard\n",
    "        # self.example_input_array = torch.zeros((1, 3, 32, 32), dtype=torch.float32)\n",
    "\n",
    "    def forward(self, imgs):\n",
    "        # Forward function that is run when visualizing the graph\n",
    "        return self.model(imgs)\n",
    "\n",
    "    def configure_optimizers(self):\n",
    "        # We will support Adam or SGD as optimizers.\n",
    "        if self.hparams.optimizer_name == \"Adam\":\n",
    "            # AdamW is Adam with a correct implementation of weight decay (see here\n",
    "            # for details: https://arxiv.org/pdf/1711.05101.pdf)\n",
    "            optimizer = torch.optim.AdamW(self.model.parameters(), **self.hparams.optimizer_hparams)\n",
    "        elif self.hparams.optimizer_name == \"SGD\":\n",
    "            optimizer = torch.optim.SGD(self.model.parameters(), **self.hparams.optimizer_hparams)\n",
    "        else:\n",
    "            assert False, f'Unknown optimizer: \"{self.hparams.optimizer_name}\"'\n",
    "\n",
    "        # We will reduce the learning rate by 0.1 after 100 and 150 epochs\n",
    "        scheduler = torch.optim.lr_scheduler.MultiStepLR(optimizer, milestones=[100, 150], gamma=0.1)\n",
    "        return [optimizer], [scheduler]\n",
    "\n",
    "    def training_step(self, batch, batch_idx):\n",
    "        # \"batch\" is the output of the training data loader.\n",
    "        imgs, keypoints = batch\n",
    "        preds = self.model(imgs)\n",
    "        loss = self.loss_module(preds, keypoints)\n",
    "\n",
    "        self.log(\"train_loss\", loss)\n",
    "        return loss  # Return tensor to call \".backward\" on\n",
    "\n",
    "    def validation_step(self, batch, batch_idx):\n",
    "        imgs, keypoints = batch\n",
    "        preds = self.model(imgs)\n",
    "        loss = self.loss_module(preds, keypoints)\n",
    "        # By default logs it per epoch (weighted average over batches)\n",
    "        self.log(\"val_loss\", loss)\n",
    "\n",
    "    def test_step(self, batch, batch_idx):\n",
    "        self.validation_step(batch, batch_idx)"
   ]
  },
  {
   "cell_type": "code",
   "execution_count": null,
   "id": "c660d41b",
   "metadata": {},
   "outputs": [],
   "source": [
    "device = \"cuda:0\"\n",
    "\n",
    "trainer = pl.Trainer(\n",
    "    #default_root_dir=os.path.join(CHECKPOINT_PATH, save_name),  # Where to save models\n",
    "    # We run on a single GPU (if possible)\n",
    "    gpus=1 if str(device) == \"cuda:0\" else 0,\n",
    "    # How many epochs to train for if no patience is set\n",
    "    max_epochs=180,\n",
    "    callbacks=[\n",
    "        pl.callbacks.ModelCheckpoint(\n",
    "            save_weights_only=True, mode=\"min\", monitor=\"val_loss\", verbose=True,\n",
    "        ),  # Save the best checkpoint based on the maximum val_acc recorded. Saves only weights and not optimizer\n",
    "        pl.callbacks.LearningRateMonitor(\"epoch\"),\n",
    "    ],  # Log learning rate every epoch\n",
    "    progress_bar_refresh_rate=1,\n",
    ") \n",
    "\n",
    "module = HatModule(model, 'Adam', {\"lr\": 0.001})"
   ]
  },
  {
   "cell_type": "code",
   "execution_count": null,
   "id": "4cf48447",
   "metadata": {},
   "outputs": [],
   "source": [
    "trainer.fit(module, train_dataloaders=[train_dl], val_dataloaders=[val_dl])"
   ]
  },
  {
   "cell_type": "code",
   "execution_count": null,
   "id": "08527250",
   "metadata": {},
   "outputs": [],
   "source": []
  }
 ],
 "metadata": {
  "kernelspec": {
   "display_name": "Python 3 (ipykernel)",
   "language": "python",
   "name": "python3"
  },
  "language_info": {
   "codemirror_mode": {
    "name": "ipython",
    "version": 3
   },
   "file_extension": ".py",
   "mimetype": "text/x-python",
   "name": "python",
   "nbconvert_exporter": "python",
   "pygments_lexer": "ipython3",
   "version": "3.8.7"
  }
 },
 "nbformat": 4,
 "nbformat_minor": 5
}
